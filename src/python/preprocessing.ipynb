{
 "cells": [
  {
   "cell_type": "code",
   "execution_count": 14,
   "metadata": {},
   "outputs": [],
   "source": [
    "import pandas as pd\n",
    "from sklearn.preprocessing import StandardScaler\n",
    "from sklearn.decomposition import PCA\n",
    "import seaborn as sns\n"
   ]
  },
  {
   "cell_type": "code",
   "execution_count": 3,
   "metadata": {},
   "outputs": [],
   "source": [
    "data = pd.read_csv(\"food.csv\", index_col=0)"
   ]
  },
  {
   "cell_type": "code",
   "execution_count": 4,
   "metadata": {},
   "outputs": [
    {
     "data": {
      "text/html": [
       "<div>\n",
       "<style scoped>\n",
       "    .dataframe tbody tr th:only-of-type {\n",
       "        vertical-align: middle;\n",
       "    }\n",
       "\n",
       "    .dataframe tbody tr th {\n",
       "        vertical-align: top;\n",
       "    }\n",
       "\n",
       "    .dataframe thead th {\n",
       "        text-align: right;\n",
       "    }\n",
       "</style>\n",
       "<table border=\"1\" class=\"dataframe\">\n",
       "  <thead>\n",
       "    <tr style=\"text-align: right;\">\n",
       "      <th></th>\n",
       "      <th>RedMeat</th>\n",
       "      <th>WhiteMeat</th>\n",
       "      <th>Eggs</th>\n",
       "      <th>Milk</th>\n",
       "      <th>Fish</th>\n",
       "      <th>Cereals</th>\n",
       "      <th>Starch</th>\n",
       "      <th>Nuts</th>\n",
       "      <th>Fr.Veg</th>\n",
       "    </tr>\n",
       "  </thead>\n",
       "  <tbody>\n",
       "    <tr>\n",
       "      <th>Switzerland</th>\n",
       "      <td>13.1</td>\n",
       "      <td>10.1</td>\n",
       "      <td>3.1</td>\n",
       "      <td>23.8</td>\n",
       "      <td>2.3</td>\n",
       "      <td>25.6</td>\n",
       "      <td>2.8</td>\n",
       "      <td>2.4</td>\n",
       "      <td>4.9</td>\n",
       "    </tr>\n",
       "    <tr>\n",
       "      <th>UK</th>\n",
       "      <td>17.4</td>\n",
       "      <td>5.7</td>\n",
       "      <td>4.7</td>\n",
       "      <td>20.6</td>\n",
       "      <td>4.3</td>\n",
       "      <td>24.3</td>\n",
       "      <td>4.7</td>\n",
       "      <td>3.4</td>\n",
       "      <td>3.3</td>\n",
       "    </tr>\n",
       "    <tr>\n",
       "      <th>USSR</th>\n",
       "      <td>9.3</td>\n",
       "      <td>4.6</td>\n",
       "      <td>2.1</td>\n",
       "      <td>16.6</td>\n",
       "      <td>3.0</td>\n",
       "      <td>43.6</td>\n",
       "      <td>6.4</td>\n",
       "      <td>3.4</td>\n",
       "      <td>2.9</td>\n",
       "    </tr>\n",
       "    <tr>\n",
       "      <th>W Germany</th>\n",
       "      <td>11.4</td>\n",
       "      <td>12.5</td>\n",
       "      <td>4.1</td>\n",
       "      <td>18.8</td>\n",
       "      <td>3.4</td>\n",
       "      <td>18.6</td>\n",
       "      <td>5.2</td>\n",
       "      <td>1.5</td>\n",
       "      <td>3.8</td>\n",
       "    </tr>\n",
       "    <tr>\n",
       "      <th>Yugoslavia</th>\n",
       "      <td>4.4</td>\n",
       "      <td>5.0</td>\n",
       "      <td>1.2</td>\n",
       "      <td>9.5</td>\n",
       "      <td>0.6</td>\n",
       "      <td>55.9</td>\n",
       "      <td>3.0</td>\n",
       "      <td>5.7</td>\n",
       "      <td>3.2</td>\n",
       "    </tr>\n",
       "  </tbody>\n",
       "</table>\n",
       "</div>"
      ],
      "text/plain": [
       "             RedMeat  WhiteMeat  Eggs  Milk  Fish  Cereals  Starch  Nuts  \\\n",
       "Switzerland     13.1       10.1   3.1  23.8   2.3     25.6     2.8   2.4   \n",
       "UK              17.4        5.7   4.7  20.6   4.3     24.3     4.7   3.4   \n",
       "USSR             9.3        4.6   2.1  16.6   3.0     43.6     6.4   3.4   \n",
       "W Germany       11.4       12.5   4.1  18.8   3.4     18.6     5.2   1.5   \n",
       "Yugoslavia       4.4        5.0   1.2   9.5   0.6     55.9     3.0   5.7   \n",
       "\n",
       "             Fr.Veg  \n",
       "Switzerland     4.9  \n",
       "UK              3.3  \n",
       "USSR            2.9  \n",
       "W Germany       3.8  \n",
       "Yugoslavia      3.2  "
      ]
     },
     "execution_count": 4,
     "metadata": {},
     "output_type": "execute_result"
    }
   ],
   "source": [
    "data.tail()"
   ]
  },
  {
   "cell_type": "code",
   "execution_count": 5,
   "metadata": {},
   "outputs": [],
   "source": [
    "scaler = StandardScaler()\n",
    "data_scale = scaler.fit_transform(data)"
   ]
  },
  {
   "cell_type": "code",
   "execution_count": 7,
   "metadata": {},
   "outputs": [
    {
     "data": {
      "text/plain": [
       "array([[ 0.08294065, -1.79475017, -2.22458425, -1.1795703 , -1.22503282,\n",
       "         0.9348045 , -2.29596509,  1.24796771, -1.37825141],\n",
       "       [-0.28297397,  1.68644628,  1.24562107,  0.40046785, -0.6551106 ,\n",
       "        -0.39505069, -0.42221774, -0.91079027,  0.09278868],\n",
       "       [ 1.11969872,  0.38790475,  1.06297868,  0.05573225,  0.06479116,\n",
       "        -0.5252463 ,  0.88940541, -0.49959828, -0.07694671],\n",
       "       [-0.6183957 , -0.52383718, -1.22005113, -1.2657542 , -0.92507375,\n",
       "         2.27395937, -1.98367386,  0.32278572,  0.03621022],\n",
       "       [-0.03903089,  0.96810416, -0.12419682, -0.6624669 , -0.6851065 ,\n",
       "         0.19082957,  0.45219769, -1.01358827, -0.07694671],\n",
       "       [ 0.23540507,  0.8023329 ,  0.69769391,  1.13303099,  1.68457011,\n",
       "        -0.96233157,  0.3272812 , -1.21918427, -0.98220215],\n",
       "       [-0.43543839,  1.02336124,  0.69769391, -0.86356267,  0.33475432,\n",
       "        -0.71124003,  1.38907137, -1.16778527, -0.30326057],\n",
       "       [-0.10001666, -0.82775116, -0.21551801,  2.38269753,  0.45473794,\n",
       "        -0.55314536,  0.51465594, -1.06498727, -1.5479868 ],\n",
       "       [ 2.49187852,  0.55367601,  0.33240914,  0.34301192,  0.42474204,\n",
       "        -0.385751  ,  0.3272812 , -0.34540128,  1.33751491],\n",
       "       [ 0.11343353, -1.35269348, -0.12419682,  0.07009624,  0.48473385,\n",
       "         0.87900638, -1.29663317,  2.4301447 ,  1.33751491],\n",
       "       [-1.38071781,  1.24438959, -0.03287563, -1.06465843, -1.19503691,\n",
       "         0.73021139, -0.17238476,  1.19656871,  0.03621022],\n",
       "       [ 1.24167025,  0.58130455,  1.61090584,  1.24794286, -0.62511469,\n",
       "        -0.76703815,  1.20169663, -0.75659327, -0.69930983],\n",
       "       [-0.25248108, -0.77249407, -0.03287563, -0.49009911, -0.26516381,\n",
       "         0.42332173, -1.35909141,  0.63117972,  1.45067184],\n",
       "       [-0.10001666,  1.57593211,  0.60637272,  0.90320726, -0.53512697,\n",
       "        -0.91583314, -0.04746827, -0.65379528, -0.24668211],\n",
       "       [-0.13050955, -0.88300824, -0.21551801,  0.88884328,  1.62457829,\n",
       "        -0.86003502,  0.20236471, -0.75659327, -0.81246676],\n",
       "       [-0.89283166,  0.63656164, -0.21551801,  0.31428395, -0.38514744,\n",
       "         0.35822393,  1.0143219 , -0.55099728,  1.39409338],\n",
       "       [-1.10628185, -1.15929368, -1.67665709, -1.75412962,  2.97439408,\n",
       "        -0.48804755,  1.0143219 ,  0.83677571,  2.12961342],\n",
       "       [-1.10628185, -0.44095155, -1.31137232, -0.86356267, -0.98506557,\n",
       "         1.61368162, -0.73450896,  1.14516971, -0.75588829],\n",
       "       [-0.83184589, -1.24217931,  0.14976676, -1.22266225,  0.81468882,\n",
       "        -0.28345445,  0.88940541,  1.45356371,  1.73356417],\n",
       "       [ 0.02195488, -0.0265234 ,  0.51505153,  1.08993904,  0.96466835,\n",
       "        -1.18552405, -0.35975949, -0.85939127, -1.20851601],\n",
       "       [ 0.99772718,  0.60893309,  0.14976676,  0.96066319, -0.59511878,\n",
       "        -0.61824316, -0.9218837 , -0.34540128,  0.43225947],\n",
       "       [ 2.30892121, -0.60672281,  1.61090584,  0.50101573,  0.00479935,\n",
       "        -0.73913909,  0.26482296,  0.16858872, -0.47299597],\n",
       "       [-0.16100243, -0.91063679, -0.76344517, -0.07354359, -0.38514744,\n",
       "         1.05570042,  1.32661312,  0.16858872, -0.69930983],\n",
       "       [ 0.47934814,  1.27201813,  1.06297868,  0.24246404, -0.26516381,\n",
       "        -1.26922123,  0.57711418, -0.80799227, -0.19010364],\n",
       "       [-1.65515377, -0.80012261, -1.5853359 , -1.0933864 , -1.10504919,\n",
       "         2.19956187, -0.79696721,  1.35076571, -0.52957443]])"
      ]
     },
     "execution_count": 7,
     "metadata": {},
     "output_type": "execute_result"
    }
   ],
   "source": [
    "data_scale"
   ]
  },
  {
   "cell_type": "code",
   "execution_count": 10,
   "metadata": {},
   "outputs": [],
   "source": [
    "pca = PCA(n_components=2)\n",
    "pca_food = pca.fit_transform(data_scale)"
   ]
  },
  {
   "cell_type": "code",
   "execution_count": 11,
   "metadata": {},
   "outputs": [
    {
     "data": {
      "text/plain": [
       "array([[ 3.55723814, -1.66410153],\n",
       "       [-1.45200587, -1.06270224],\n",
       "       [-1.65547983,  0.16278449],\n",
       "       [ 3.19870836, -1.32789455],\n",
       "       [-0.37810388, -0.61509588],\n",
       "       [-2.41404237,  0.29133192],\n",
       "       [-1.45153787,  0.45958638],\n",
       "       [-1.5961042 , -0.60829255],\n",
       "       [-1.51866569,  0.80155997],\n",
       "       [ 2.28588421,  1.02170143],\n",
       "       [ 1.48749325, -0.83277665],\n",
       "       [-2.71840037, -0.77945466],\n",
       "       [ 1.5662092 ,  0.40721449],\n",
       "       [-1.67529322, -0.9307968 ],\n",
       "       [-0.994802  ,  0.8389795 ],\n",
       "       [-0.12438256,  0.54270685],\n",
       "       [ 1.74102993,  4.37737493],\n",
       "       [ 2.81365985, -1.14185552],\n",
       "       [ 1.33885786,  2.60617968],\n",
       "       [-1.66741865, -0.21166087],\n",
       "       [-0.93113082, -0.76654602],\n",
       "       [-1.77115274, -0.09591736],\n",
       "       [ 0.79873424, -0.11305431],\n",
       "       [-2.13701166, -0.29983694],\n",
       "       [ 3.69771671, -1.05943374]])"
      ]
     },
     "execution_count": 11,
     "metadata": {},
     "output_type": "execute_result"
    }
   ],
   "source": [
    "pca_food"
   ]
  },
  {
   "cell_type": "code",
   "execution_count": 15,
   "metadata": {},
   "outputs": [
    {
     "data": {
      "text/plain": [
       "<Axes: >"
      ]
     },
     "execution_count": 15,
     "metadata": {},
     "output_type": "execute_result"
    },
    {
     "data": {
      "image/png": "[encoded data removed]",
      "text/plain": [
       "<Figure size 640x480 with 1 Axes>"
      ]
     },
     "metadata": {},
     "output_type": "display_data"
    }
   ],
   "source": [
    "sns.scatterplot(pca_food)"
   ]
  }
 ],
 "metadata": {
  "kernelspec": {
   "display_name": "Python 3",
   "language": "python",
   "name": "python3"
  },
  "language_info": {
   "codemirror_mode": {
    "name": "ipython",
    "version": 3
   },
   "file_extension": ".py",
   "mimetype": "text/x-python",
   "name": "python",
   "nbconvert_exporter": "python",
   "pygments_lexer": "ipython3",
   "version": "3.12.2"
  }
 },
 "nbformat": 4,
 "nbformat_minor": 2
}
